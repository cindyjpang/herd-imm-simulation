{
 "metadata": {
  "language_info": {
   "codemirror_mode": {
    "name": "ipython",
    "version": 3
   },
   "file_extension": ".py",
   "mimetype": "text/x-python",
   "name": "python",
   "nbconvert_exporter": "python",
   "pygments_lexer": "ipython3",
   "version": "3.9.1"
  },
  "orig_nbformat": 4,
  "kernelspec": {
   "name": "python3",
   "display_name": "Python 3.9.1 64-bit"
  },
  "interpreter": {
   "hash": "004855f5fc4bb6bbf5e1ef15548456f6e38db1cae074ace8775c20f8d15667a1"
  }
 },
 "nbformat": 4,
 "nbformat_minor": 2,
 "cells": [
  {
   "cell_type": "markdown",
   "source": [
    "# Simulation for Herd Immunity \n",
    "## This is a highly simplified model, but here are the most basic rules \n"
   ],
   "metadata": {}
  },
  {
   "cell_type": "code",
   "execution_count": 2,
   "source": [
    "import numpy as np\r\n",
    "import random\r\n",
    "import matplotlib.pyplot as plt"
   ],
   "outputs": [],
   "metadata": {}
  },
  {
   "cell_type": "markdown",
   "source": [
    "## User controls, set the percent vaccinated and number infected\n",
    "### all grid markers will be on a 10 x 10 grid  "
   ],
   "metadata": {}
  },
  {
   "cell_type": "code",
   "execution_count": 3,
   "source": [
    "N = 100\r\n",
    "pct_vacc = 0.70 \r\n",
    "inf_case: int = 10\r\n",
    "num_vacc: int = int(pct_vacc*N)"
   ],
   "outputs": [],
   "metadata": {}
  },
  {
   "cell_type": "code",
   "execution_count": 4,
   "source": [
    "## set coordinates \r\n",
    "seq = [i for i in range(0,100)]\r\n",
    "\r\n",
    "vacc_x = random.sample(seq, num_vacc)\r\n",
    "vacc_y = random.sample(seq, num_vacc)\r\n",
    "\r\n",
    "inf_x = random.sample(seq, inf_case)\r\n",
    "inf_y = random.sample(seq, inf_case)\r\n",
    "\r\n",
    "\r\n",
    "\r\n",
    "plt.scatter(vacc_x, vacc_y)\r\n",
    "plt.scatter(inf_x, inf_y)\r\n",
    "\r\n",
    "plt.show()\r\n",
    "\r\n"
   ],
   "outputs": [
    {
     "output_type": "display_data",
     "data": {
      "text/plain": [
       "<Figure size 432x288 with 1 Axes>"
      ],
      "image/png": "[encoded data removed]"
     },
     "metadata": {
      "needs_background": "light"
     }
    }
   ],
   "metadata": {}
  },
  {
   "cell_type": "code",
   "execution_count": 5,
   "source": [
    "print(vacc_x)\r\n",
    "print(vacc_y)\r\n",
    "\r\n"
   ],
   "outputs": [
    {
     "output_type": "stream",
     "name": "stdout",
     "text": [
      "[8, 31, 10, 26, 53, 25, 4, 17, 49, 73, 14, 48, 52, 34, 86, 61, 80, 3, 50, 30, 1, 63, 27, 2, 59, 92, 68, 95, 90, 19, 60, 66, 79, 67, 36, 18, 89, 82, 7, 35, 11, 56, 58, 47, 96, 70, 46, 72, 84, 88, 5, 45, 71, 37, 51, 97, 9, 29, 99, 83, 0, 28, 94, 91, 74, 76, 12, 6, 98, 77]\n",
      "[23, 76, 61, 30, 89, 66, 10, 67, 36, 75, 68, 17, 69, 39, 63, 99, 50, 52, 53, 7, 35, 78, 97, 43, 71, 77, 6, 95, 5, 8, 37, 38, 9, 57, 15, 58, 55, 49, 70, 88, 92, 72, 62, 31, 64, 33, 3, 60, 74, 59, 44, 41, 82, 90, 45, 26, 51, 87, 83, 22, 11, 2, 29, 16, 20, 47, 24, 4, 40, 14]\n"
     ]
    }
   ],
   "metadata": {}
  },
  {
   "cell_type": "code",
   "execution_count": 6,
   "source": [
    "print(inf_x)\r\n",
    "print(inf_y)"
   ],
   "outputs": [
    {
     "output_type": "stream",
     "name": "stdout",
     "text": [
      "[55, 22, 75, 82, 20, 66, 88, 28, 36, 81]\n",
      "[56, 53, 21, 86, 61, 44, 13, 40, 72, 69]\n"
     ]
    }
   ],
   "metadata": {}
  },
  {
   "cell_type": "code",
   "execution_count": 14,
   "source": [
    "\r\n",
    "immunity_coords = [(x,y) for x,y in zip(vacc_x, vacc_y)]\r\n",
    "print(immunity_coords)\r\n",
    "immunity_coords[1]\r\n",
    "print(immunity_coords[1] == (31,76))"
   ],
   "outputs": [
    {
     "output_type": "stream",
     "name": "stdout",
     "text": [
      "[(8, 23), (31, 76), (10, 61), (26, 30), (53, 89), (25, 66), (4, 10), (17, 67), (49, 36), (73, 75), (14, 68), (48, 17), (52, 69), (34, 39), (86, 63), (61, 99), (80, 50), (3, 52), (50, 53), (30, 7), (1, 35), (63, 78), (27, 97), (2, 43), (59, 71), (92, 77), (68, 6), (95, 95), (90, 5), (19, 8), (60, 37), (66, 38), (79, 9), (67, 57), (36, 15), (18, 58), (89, 55), (82, 49), (7, 70), (35, 88), (11, 92), (56, 72), (58, 62), (47, 31), (96, 64), (70, 33), (46, 3), (72, 60), (84, 74), (88, 59), (5, 44), (45, 41), (71, 82), (37, 90), (51, 45), (97, 26), (9, 51), (29, 87), (99, 83), (83, 22), (0, 11), (28, 2), (94, 29), (91, 16), (74, 20), (76, 47), (12, 24), (6, 4), (98, 40), (77, 14)]\n",
      "True\n"
     ]
    }
   ],
   "metadata": {}
  },
  {
   "cell_type": "code",
   "execution_count": null,
   "source": [],
   "outputs": [],
   "metadata": {}
  }
 ]
}