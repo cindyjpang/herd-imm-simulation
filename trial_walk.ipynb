{
 "cells": [
  {
   "cell_type": "code",
   "execution_count": 32,
   "source": [
    "import numpy as np\r\n",
    "import random\r\n",
    "import matplotlib.pyplot as plt\r\n",
    "import pandas as pd"
   ],
   "outputs": [],
   "metadata": {}
  },
  {
   "cell_type": "code",
   "execution_count": 33,
   "source": [
    "# set grid size, M*N (row, col)\r\n",
    "M: int = 10\r\n",
    "N: int = 10"
   ],
   "outputs": [],
   "metadata": {}
  },
  {
   "cell_type": "code",
   "execution_count": 34,
   "source": [
    "# set initial coordinate values\r\n",
    "w_x0 = random.sample([i for i in range(0,M)], 1)\r\n",
    "w_y0 = random.sample([j for j in range(0,N)], 1)\r\n",
    "\r\n",
    "b_x0 = random.sample([i for i in range(0,M)], 1)\r\n",
    "b_y0 = random.sample([j for j in range(0,N)], 1)\r\n",
    "\r\n",
    "\r\n",
    "white = [(x,y) for x, y in zip(w_x0, w_y0)]\r\n",
    "black = [(x,y) for x, y in zip(b_x0, b_y0)]\r\n",
    "print(white[0])\r\n",
    "print(white[0][1])\r\n",
    "print(black)\r\n",
    "\r\n",
    "plt.scatter(*zip(*white))\r\n",
    "plt.scatter(*zip(*black))\r\n",
    "plt.show()"
   ],
   "outputs": [
    {
     "output_type": "stream",
     "name": "stdout",
     "text": [
      "(3, 1)\n",
      "1\n",
      "[(4, 4)]\n"
     ]
    },
    {
     "output_type": "display_data",
     "data": {
      "text/plain": [
       "<Figure size 432x288 with 1 Axes>"
      ],
      "image/png": "[encoded data removed]"
     },
     "metadata": {
      "needs_background": "light"
     }
    }
   ],
   "metadata": {}
  },
  {
   "cell_type": "code",
   "execution_count": 35,
   "source": [
    "def moves(pos: tuple, dpos: tuple) -> tuple:\r\n",
    "    return (pos[0] + dpos[0], pos[1] + dpos[1])\r\n",
    "\r\n",
    "\r\n",
    "def check_neighbors(white_pos: tuple, black_pos: tuple) -> bool:\r\n",
    "    stationary = white_pos\r\n",
    "    up = (white_pos[0], white_pos[1] + 1)\r\n",
    "    upper_right = (white_pos[0] + 1, white_pos[1] + 1)\r\n",
    "    upper_left = (white_pos[0] - 1, white_pos[1] + 1)\r\n",
    "    left = (white_pos[0] - 1, white_pos[1])\r\n",
    "    right = (white_pos[0] + 1, white_pos[1])\r\n",
    "    lower_left = (white_pos[0] - 1, white_pos[1] - 1)\r\n",
    "    down = (white_pos[0], white_pos[1] - 1)\r\n",
    "    lower_right = (white_pos[0] + 1, white_pos[1] - 1)\r\n",
    "\r\n",
    "    if (black_pos == stationary) or (black_pos == up) or (black_pos == upper_right) or (black_pos == upper_left) or (black_pos == left) or (black_pos == right) or (black_pos == lower_left) or (black_pos == down) or (black_pos == lower_right):\r\n",
    "        return True\r\n",
    "    else:\r\n",
    "        return False\r\n",
    "\r\n",
    "    "
   ],
   "outputs": [],
   "metadata": {}
  },
  {
   "cell_type": "code",
   "execution_count": 36,
   "source": [
    "\r\n",
    "\r\n",
    "dt_w = random.sample([i for i in range(-1,2)], 2)\r\n",
    "dt_bl = random.sample([i for i in range(-1,2)], 2)\r\n",
    "\r\n",
    "print(dt_w)\r\n",
    "print(dt_bl)\r\n",
    "\r\n",
    "print(moves(white[0], dt_w))\r\n",
    "print(moves(white[0], dt_bl))"
   ],
   "outputs": [
    {
     "output_type": "stream",
     "name": "stdout",
     "text": [
      "[-1, 1]\n",
      "[-1, 0]\n",
      "(2, 2)\n",
      "(2, 1)\n"
     ]
    }
   ],
   "metadata": {}
  },
  {
   "cell_type": "code",
   "execution_count": 37,
   "source": [
    "def run_sim():\r\n",
    "    w_x0 = random.sample([i for i in range(0,M)], 1)\r\n",
    "    w_y0 = random.sample([j for j in range(0,N)], 1)\r\n",
    "\r\n",
    "    b_x0 = random.sample([i for i in range(0,M)], 1)\r\n",
    "    b_y0 = random.sample([j for j in range(0,N)], 1)\r\n",
    "\r\n",
    "\r\n",
    "    white = [(x,y) for x, y in zip(w_x0, w_y0)]\r\n",
    "    black = [(x,y) for x, y in zip(b_x0, b_y0)]\r\n",
    "    stop: bool = False\r\n",
    "    n: int = 0\r\n",
    "    t: int = 0\r\n",
    "    while n < 100000:\r\n",
    "        if check_neighbors(white[n], black[n]) == True:\r\n",
    "            break\r\n",
    "        else:\r\n",
    "            dt_w = random.sample([i for i in range(-1,2)], 2)\r\n",
    "            dt_bl = random.sample([i for i in range(-1,2)], 2)\r\n",
    "            white.append(moves(white[n], dt_w))\r\n",
    "            black.append(moves(black[n], dt_bl))\r\n",
    "            t = t+1\r\n",
    "            n = n+1\r\n",
    "    return t\r\n",
    "  \r\n",
    "\r\n",
    "#white, black, t, n = run_sim()\r\n",
    "#print(white)\r\n",
    "#print(black)\r\n",
    "#print(t)\r\n",
    "#print(n)\r\n"
   ],
   "outputs": [],
   "metadata": {}
  },
  {
   "cell_type": "code",
   "execution_count": 41,
   "source": [
    "\r\n",
    "t_dist = [run_sim() for i in range(100)]\r\n",
    "print(t_dist)"
   ],
   "outputs": [
    {
     "output_type": "stream",
     "name": "stdout",
     "text": [
      "[0, 14, 0, 1, 0, 1, 36, 14896, 5997, 5, 1, 9, 100000, 1, 100000, 84, 0, 0, 100000, 1, 128, 3, 21, 17, 0, 100000, 2798, 12, 0, 2, 67, 9756, 100000, 0, 1301, 0, 100000, 1, 2499, 0, 17763, 4, 4, 4, 0, 6, 0, 100000, 0, 0, 2765, 2, 0, 17, 4, 98, 0, 366, 0, 3, 100000, 100000, 100000, 100000, 7, 1, 0, 1, 61295, 0, 1, 70367, 0, 5, 0, 956, 100000, 1331, 100000, 0, 11, 94, 7, 0, 100000, 0, 0, 0, 4, 0, 100000, 0, 1, 110, 6, 100000, 98906, 7, 38, 2]\n"
     ]
    }
   ],
   "metadata": {}
  },
  {
   "cell_type": "code",
   "execution_count": 44,
   "source": [
    "n, bins, patches = plt.hist(t_dist, 50, density=True, facecolor='b', alpha=0.75)\r\n",
    "plt.xlabel('Number of moves')\r\n",
    "plt.ylabel('Probability')\r\n",
    "plt.title(f'M = {M}, N = {N}, max_t = 10^6')\r\n",
    "plt.show()\r\n"
   ],
   "outputs": [
    {
     "output_type": "display_data",
     "data": {
      "text/plain": [
       "<Figure size 432x288 with 1 Axes>"
      ],
      "image/png": "[encoded data removed]"
     },
     "metadata": {
      "needs_background": "light"
     }
    }
   ],
   "metadata": {}
  }
 ],
 "metadata": {
  "interpreter": {
   "hash": "004855f5fc4bb6bbf5e1ef15548456f6e38db1cae074ace8775c20f8d15667a1"
  },
  "kernelspec": {
   "name": "python3",
   "display_name": "Python 3.9.1 64-bit"
  },
  "language_info": {
   "codemirror_mode": {
    "name": "ipython",
    "version": 3
   },
   "file_extension": ".py",
   "mimetype": "text/x-python",
   "name": "python",
   "nbconvert_exporter": "python",
   "pygments_lexer": "ipython3",
   "version": "3.9.1"
  }
 },
 "nbformat": 4,
 "nbformat_minor": 2
}