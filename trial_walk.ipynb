{
 "cells": [
  {
   "cell_type": "code",
   "execution_count": 9,
   "metadata": {},
   "outputs": [],
   "source": [
    "import numpy as np\n",
    "import random\n",
    "import matplotlib.pyplot as plt\n",
    "import pandas as pd"
   ]
  },
  {
   "cell_type": "code",
   "execution_count": 10,
   "metadata": {},
   "outputs": [],
   "source": [
    "# set grid size, M*N (row, col)\n",
    "M: int = 5\n",
    "N: int = 5"
   ]
  },
  {
   "cell_type": "code",
   "execution_count": 11,
   "metadata": {},
   "outputs": [
    {
     "name": "stdout",
     "output_type": "stream",
     "text": [
      "(2, 4)\n",
      "4\n",
      "[(0, 1)]\n"
     ]
    },
    {
     "data": {
      "image/png": "[encoded data removed]",
      "text/plain": [
       "<Figure size 432x288 with 1 Axes>"
      ]
     },
     "metadata": {
      "needs_background": "light"
     },
     "output_type": "display_data"
    }
   ],
   "source": [
    "# set initial coordinate values\n",
    "w_x0 = random.sample([i for i in range(0,M)], 1)\n",
    "w_y0 = random.sample([j for j in range(0,N)], 1)\n",
    "\n",
    "b_x0 = random.sample([i for i in range(0,M)], 1)\n",
    "b_y0 = random.sample([j for j in range(0,N)], 1)\n",
    "\n",
    "\n",
    "white = [(x,y) for x, y in zip(w_x0, w_y0)]\n",
    "black = [(x,y) for x, y in zip(b_x0, b_y0)]\n",
    "print(white[0])\n",
    "print(white[0][1])\n",
    "print(black)\n",
    "\n",
    "plt.scatter(*zip(*white))\n",
    "plt.scatter(*zip(*black))\n",
    "plt.show()"
   ]
  },
  {
   "cell_type": "code",
   "execution_count": 12,
   "metadata": {},
   "outputs": [],
   "source": [
    "def moves(pos: tuple, dpos: tuple) -> tuple:\n",
    "    return (pos[0] + dpos[0], pos[1] + dpos[1])\n",
    "\n",
    "\n",
    "def check_neighbors(white_pos: tuple, black_pos: tuple) -> bool:\n",
    "    stationary = white_pos\n",
    "    up = (white_pos[0], white_pos[1] + 1)\n",
    "    upper_right = (white_pos[0] + 1, white_pos[1] + 1)\n",
    "    upper_left = (white_pos[0] - 1, white_pos[1] + 1)\n",
    "    left = (white_pos[0] - 1, white_pos[1])\n",
    "    right = (white_pos[0] + 1, white_pos[1])\n",
    "    lower_left = (white_pos[0] - 1, white_pos[1] - 1)\n",
    "    down = (white_pos[0], white_pos[1] - 1)\n",
    "    lower_right = (white_pos[0] + 1, white_pos[1] - 1)\n",
    "\n",
    "    if (black_pos == stationary) or (black_pos == up) or (black_pos == upper_right) or (black_pos == upper_left) or (black_pos == left) or (black_pos == right) or (black_pos == lower_left) or (black_pos == down) or (black_pos == lower_right):\n",
    "        return True\n",
    "    else:\n",
    "        return False\n",
    "\n",
    "    "
   ]
  },
  {
   "cell_type": "code",
   "execution_count": 13,
   "metadata": {},
   "outputs": [
    {
     "name": "stdout",
     "output_type": "stream",
     "text": [
      "[0, -1]\n",
      "[-1, 0]\n",
      "(2, 3)\n",
      "(1, 4)\n"
     ]
    }
   ],
   "source": [
    "\n",
    "\n",
    "dt_w = random.sample([i for i in range(-1,2)], 2)\n",
    "dt_bl = random.sample([i for i in range(-1,2)], 2)\n",
    "\n",
    "print(dt_w)\n",
    "print(dt_bl)\n",
    "\n",
    "print(moves(white[0], dt_w))\n",
    "print(moves(white[0], dt_bl))"
   ]
  },
  {
   "cell_type": "code",
   "execution_count": 14,
   "metadata": {},
   "outputs": [],
   "source": [
    "def run_sim():\n",
    "    w_x0 = random.sample([i for i in range(0,M)], 1)\n",
    "    w_y0 = random.sample([j for j in range(0,N)], 1)\n",
    "\n",
    "    b_x0 = random.sample([i for i in range(0,M)], 1)\n",
    "    b_y0 = random.sample([j for j in range(0,N)], 1)\n",
    "\n",
    "\n",
    "    white = [(x,y) for x, y in zip(w_x0, w_y0)]\n",
    "    black = [(x,y) for x, y in zip(b_x0, b_y0)]\n",
    "    stop: bool = False\n",
    "    n: int = 0\n",
    "    t: int = 0\n",
    "    while stop != True:\n",
    "        if check_neighbors(white[n], black[n]) == True:\n",
    "            stop = True\n",
    "        else:\n",
    "            dt_w = random.sample([i for i in range(-1,2)], 2)\n",
    "            dt_bl = random.sample([i for i in range(-1,2)], 2)\n",
    "            white.append(moves(white[n], dt_w))\n",
    "            black.append(moves(black[n], dt_bl))\n",
    "            t = t+1\n",
    "            n = n+1\n",
    "    return t\n",
    "  \n",
    "\n",
    "#white, black, t, n = run_sim()\n",
    "#print(white)\n",
    "#print(black)\n",
    "#print(t)\n",
    "#print(n)\n"
   ]
  },
  {
   "cell_type": "code",
   "execution_count": null,
   "metadata": {},
   "outputs": [],
   "source": [
    "\n",
    "t_dist = [run_sim() for i in range(10)]\n",
    "print(t_dist)"
   ]
  },
  {
   "cell_type": "code",
   "execution_count": null,
   "metadata": {},
   "outputs": [],
   "source": [
    "#plt.plot(*zip(*white))\n",
    "#plt.plot(*zip(*black))\n",
    "#plt.show()"
   ]
  }
 ],
 "metadata": {
  "interpreter": {
   "hash": "004855f5fc4bb6bbf5e1ef15548456f6e38db1cae074ace8775c20f8d15667a1"
  },
  "kernelspec": {
   "display_name": "Python 3",
   "language": "python",
   "name": "python3"
  },
  "language_info": {
   "codemirror_mode": {
    "name": "ipython",
    "version": 3
   },
   "file_extension": ".py",
   "mimetype": "text/x-python",
   "name": "python",
   "nbconvert_exporter": "python",
   "pygments_lexer": "ipython3",
   "version": "3.7.0"
  }
 },
 "nbformat": 4,
 "nbformat_minor": 2
}
